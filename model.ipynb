{
 "cells": [
  {
   "cell_type": "markdown",
   "metadata": {},
   "source": [
    "# Spam Email Classification"
   ]
  },
  {
   "cell_type": "code",
   "execution_count": 5,
   "metadata": {},
   "outputs": [],
   "source": [
    "import pandas as pd \n",
    "import matplotlib.pyplot as plt \n",
    "import seaborn as sns"
   ]
  },
  {
   "cell_type": "code",
   "execution_count": null,
   "metadata": {},
   "outputs": [
    {
     "name": "stdout",
     "output_type": "stream",
     "text": [
      "  Category                                            Message\n",
      "0      ham  Go until jurong point, crazy.. Available only ...\n",
      "1      ham                      Ok lar... Joking wif u oni...\n",
      "2     spam  Free entry in 2 a wkly comp to win FA Cup fina...\n",
      "3      ham  U dun say so early hor... U c already then say...\n",
      "4      ham  Nah I don't think he goes to usf, he lives aro...\n",
      "Index(['Category', 'Message'], dtype='object')\n"
     ]
    }
   ],
   "source": [
    "df = pd.read_csv(\"mail_data.csv\") # creating dataframe \n",
    "\n",
    "\n",
    "print(df.head())\n",
    "print(df.columns)"
   ]
  },
  {
   "cell_type": "code",
   "execution_count": null,
   "metadata": {},
   "outputs": [
    {
     "name": "stdout",
     "output_type": "stream",
     "text": [
      "Category    0\n",
      "Message     0\n",
      "dtype: int64\n"
     ]
    }
   ],
   "source": [
    "print(df.isnull().sum())  #Check missing values \n",
    "\n",
    "# handling missing values\n",
    "df.dropna(inplace= True)  \n",
    "\n",
    "# handling duplicates \n",
    "df.drop_duplicates(inplace= True)"
   ]
  },
  {
   "cell_type": "code",
   "execution_count": null,
   "metadata": {},
   "outputs": [
    {
     "name": "stderr",
     "output_type": "stream",
     "text": [
      "C:\\Users\\Shreyas\\AppData\\Local\\Temp\\ipykernel_7252\\1176623755.py:2: FutureWarning: \n",
      "\n",
      "Passing `palette` without assigning `hue` is deprecated and will be removed in v0.14.0. Assign the `x` variable to `hue` and set `legend=False` for the same effect.\n",
      "\n",
      "  sns.countplot(x = df[\"Category\"], palette= 'coolwarm')\n"
     ]
    },
    {
     "data": {
      "image/png": "[encoded data removed]",
      "text/plain": [
       "<Figure size 600x400 with 1 Axes>"
      ]
     },
     "metadata": {},
     "output_type": "display_data"
    }
   ],
   "source": [
    "plt.figure(figsize=(6,4)) #Learning data occurence\n",
    "sns.countplot(x = df[\"Category\"], palette= 'coolwarm') \n",
    "plt.title(\"Class Distribution: Ham vs Spam\")  \n",
    "plt.xlabel(\"Category\")  \n",
    "plt.ylabel(\"Count\")  \n",
    "plt.show()"
   ]
  },
  {
   "cell_type": "markdown",
   "metadata": {},
   "source": [
    "Classifying ham as 0 and spam as 1 for the classification model "
   ]
  },
  {
   "cell_type": "code",
   "execution_count": 9,
   "metadata": {},
   "outputs": [],
   "source": [
    "df[\"Category\"] = df[\"Category\"].map({'ham' : 0, 'spam' :1})"
   ]
  },
  {
   "cell_type": "markdown",
   "metadata": {},
   "source": [
    "Getting sample datas "
   ]
  },
  {
   "cell_type": "code",
   "execution_count": 10,
   "metadata": {},
   "outputs": [
    {
     "name": "stdout",
     "output_type": "stream",
     "text": [
      "3031    Also sir, i sent you an email about how to log...\n",
      "495                      Are you free now?can i call now?\n",
      "2942    My supervisor find 4 me one lor i thk his stud...\n",
      "3911    She.s good. She was wondering if you wont say ...\n",
      "3360    Sorry I missed your call let's talk when you h...\n",
      "Name: Message, dtype: object\n"
     ]
    }
   ],
   "source": [
    "print(df[\"Message\"].sample(5, random_state=42))  # Print 5 random messages"
   ]
  },
  {
   "cell_type": "markdown",
   "metadata": {},
   "source": [
    "Checking special chars"
   ]
  },
  {
   "cell_type": "code",
   "execution_count": 11,
   "metadata": {},
   "outputs": [
    {
     "name": "stdout",
     "output_type": "stream",
     "text": [
      "    Category                                            Message\n",
      "2          1  Free entry in 2 a wkly comp to win FA Cup fina...\n",
      "5          1  FreeMsg Hey there darling it's been 3 week's n...\n",
      "7          0  As per your request 'Melle Melle (Oru Minnamin...\n",
      "9          1  Had your mobile 11 months or more? U R entitle...\n",
      "10         0  I'm gonna be home soon and i don't want to tal...\n"
     ]
    }
   ],
   "source": [
    "import re  \n",
    "\n",
    "# Checking special characters in df \n",
    "special_characters = df[df[\"Message\"].str.contains(r\"[@#$%^&*()<>?/|}{~:]\", regex=True)]\n",
    "print(special_characters.head(5))\n"
   ]
  },
  {
   "cell_type": "markdown",
   "metadata": {},
   "source": [
    "checking html_tags "
   ]
  },
  {
   "cell_type": "code",
   "execution_count": 13,
   "metadata": {},
   "outputs": [
    {
     "name": "stdout",
     "output_type": "stream",
     "text": [
      "      Category                                            Message\n",
      "690          1  <Forwarded from 448712404000>Please CALL 08712...\n",
      "2267         1  <Forwarded from 88877>FREE entry into our £250...\n",
      "2297         1  <Forwarded from 21870000>Hi - this is your Mai...\n",
      "2620         1  <Forwarded from 21870000>Hi - this is your Mai...\n",
      "4112         1  URGENT! Your Mobile number has been awarded a ...\n"
     ]
    }
   ],
   "source": [
    "html_tags = df[df[\"Message\"].str.contains(r\"<.*?>\", regex = True)] \n",
    "print(html_tags.head(5))"
   ]
  },
  {
   "cell_type": "markdown",
   "metadata": {},
   "source": [
    "Detecting Non-English chars "
   ]
  },
  {
   "cell_type": "code",
   "execution_count": 15,
   "metadata": {},
   "outputs": [
    {
     "name": "stdout",
     "output_type": "stream",
     "text": [
      "Language\n",
      "en       4701\n",
      "af         60\n",
      "nl         39\n",
      "so         35\n",
      "fr         34\n",
      "cy         31\n",
      "no         31\n",
      "id         28\n",
      "it         22\n",
      "da         21\n",
      "de         21\n",
      "ca         16\n",
      "sv         15\n",
      "tl         13\n",
      "sw         12\n",
      "et         10\n",
      "hr          9\n",
      "es          9\n",
      "vi          8\n",
      "sq          7\n",
      "pl          7\n",
      "sl          6\n",
      "sk          6\n",
      "tr          5\n",
      "pt          3\n",
      "error       3\n",
      "fi          2\n",
      "ro          1\n",
      "cs          1\n",
      "lt          1\n",
      "Name: count, dtype: int64\n"
     ]
    }
   ],
   "source": [
    "from langdetect import detect\n",
    "  \n",
    "# Function to detect language\n",
    "def detect_language(text):\n",
    "    try:\n",
    "        return detect(text)\n",
    "    except:\n",
    "        return \"error\" \n",
    "    \n",
    "df[\"Language\"] = df[\"Message\"].apply(detect_language) \n",
    "\n",
    "print(df[\"Language\"].value_counts())"
   ]
  },
  {
   "cell_type": "markdown",
   "metadata": {},
   "source": [
    "Detect Irreveleant characters"
   ]
  },
  {
   "cell_type": "code",
   "execution_count": 16,
   "metadata": {},
   "outputs": [
    {
     "name": "stdout",
     "output_type": "stream",
     "text": [
      "      Category                                            Message Language\n",
      "1411         0                 Pls speak to that customer machan.       en\n",
      "4903         1  * FREE* POLYPHONIC RINGTONE Text SUPER to 8713...       en\n",
      "808          0                  Boooo you always work. Just quit.       en\n",
      "2331         0   Long beach lor. Expected... U having dinner now?       en\n",
      "2600         0  Gosh that , what a pain. Spose I better come t...       en\n"
     ]
    }
   ],
   "source": [
    "# Find rows with too many numbers or symbols\n",
    "weird_chars = df[df[\"Message\"].str.contains(r\"[^a-zA-Z0-9\\s]\", regex=True)]\n",
    "print(weird_chars.sample(5))\n"
   ]
  },
  {
   "cell_type": "markdown",
   "metadata": {},
   "source": [
    "## Combine Multiple Datasets for Diversity"
   ]
  }
 ],
 "metadata": {
  "kernelspec": {
   "display_name": "Python 3",
   "language": "python",
   "name": "python3"
  },
  "language_info": {
   "codemirror_mode": {
    "name": "ipython",
    "version": 3
   },
   "file_extension": ".py",
   "mimetype": "text/x-python",
   "name": "python",
   "nbconvert_exporter": "python",
   "pygments_lexer": "ipython3",
   "version": "3.13.0"
  }
 },
 "nbformat": 4,
 "nbformat_minor": 2
}
