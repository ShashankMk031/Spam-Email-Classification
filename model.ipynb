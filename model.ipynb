{
 "cells": [
  {
   "cell_type": "markdown",
   "metadata": {},
   "source": [
    "# Spam Email Classification"
   ]
  },
  {
   "cell_type": "code",
   "execution_count": 1,
   "metadata": {},
   "outputs": [],
   "source": [
    "import pandas as pd \n",
    "import matplotlib.pyplot as plt \n",
    "import seaborn as sns"
   ]
  },
  {
   "cell_type": "code",
   "execution_count": 2,
   "metadata": {},
   "outputs": [
    {
     "name": "stdout",
     "output_type": "stream",
     "text": [
      "  Category                                            Message\n",
      "0      ham  Go until jurong point, crazy.. Available only ...\n",
      "1      ham                      Ok lar... Joking wif u oni...\n",
      "2     spam  Free entry in 2 a wkly comp to win FA Cup fina...\n",
      "3      ham  U dun say so early hor... U c already then say...\n",
      "4      ham  Nah I don't think he goes to usf, he lives aro...\n",
      "Index(['Category', 'Message'], dtype='object')\n"
     ]
    }
   ],
   "source": [
    "df = pd.read_csv(\"mail_data.csv\") # creating dataframe \n",
    "\n",
    "\n",
    "print(df.head())\n",
    "print(df.columns)"
   ]
  },
  {
   "cell_type": "code",
   "execution_count": 3,
   "metadata": {},
   "outputs": [
    {
     "name": "stdout",
     "output_type": "stream",
     "text": [
      "Category    0\n",
      "Message     0\n",
      "dtype: int64\n"
     ]
    }
   ],
   "source": [
    "print(df.isnull().sum())  #Check missing values \n",
    "\n",
    "# handling missing values\n",
    "df.dropna(inplace= True)  \n",
    "\n",
    "# handling duplicates \n",
    "df.drop_duplicates(inplace= True)"
   ]
  },
  {
   "cell_type": "code",
   "execution_count": 4,
   "metadata": {},
   "outputs": [
    {
     "name": "stderr",
     "output_type": "stream",
     "text": [
      "C:\\Users\\Shreyas\\AppData\\Local\\Temp\\ipykernel_17160\\2888701375.py:2: FutureWarning: \n",
      "\n",
      "Passing `palette` without assigning `hue` is deprecated and will be removed in v0.14.0. Assign the `x` variable to `hue` and set `legend=False` for the same effect.\n",
      "\n",
      "  sns.countplot(x = df[\"Category\"], palette= 'coolwarm')\n"
     ]
    },
    {
     "data": {
      "image/png": "[encoded data removed]",
      "text/plain": [
       "<Figure size 600x400 with 1 Axes>"
      ]
     },
     "metadata": {},
     "output_type": "display_data"
    }
   ],
   "source": [
    "plt.figure(figsize=(6,4)) #Learning data occurence\n",
    "sns.countplot(x = df[\"Category\"], palette= 'coolwarm') \n",
    "plt.title(\"Class Distribution: Ham vs Spam\")  \n",
    "plt.xlabel(\"Category\")  \n",
    "plt.ylabel(\"Count\")  \n",
    "plt.show()"
   ]
  },
  {
   "cell_type": "markdown",
   "metadata": {},
   "source": [
    "Classifying ham as 0 and spam as 1 for the classification model "
   ]
  },
  {
   "cell_type": "code",
   "execution_count": 5,
   "metadata": {},
   "outputs": [],
   "source": [
    "df[\"Category\"] = df[\"Category\"].map({'ham' : 0, 'spam' :1})"
   ]
  },
  {
   "cell_type": "markdown",
   "metadata": {},
   "source": [
    "Getting sample datas "
   ]
  },
  {
   "cell_type": "code",
   "execution_count": 6,
   "metadata": {},
   "outputs": [
    {
     "name": "stdout",
     "output_type": "stream",
     "text": [
      "3031    Also sir, i sent you an email about how to log...\n",
      "495                      Are you free now?can i call now?\n",
      "2942    My supervisor find 4 me one lor i thk his stud...\n",
      "3911    She.s good. She was wondering if you wont say ...\n",
      "3360    Sorry I missed your call let's talk when you h...\n",
      "Name: Message, dtype: object\n"
     ]
    }
   ],
   "source": [
    "print(df[\"Message\"].sample(5, random_state=42))  # Print 5 random messages"
   ]
  },
  {
   "cell_type": "markdown",
   "metadata": {},
   "source": [
    "Checking special chars"
   ]
  },
  {
   "cell_type": "code",
   "execution_count": 7,
   "metadata": {},
   "outputs": [
    {
     "name": "stdout",
     "output_type": "stream",
     "text": [
      "    Category                                            Message\n",
      "2          1  Free entry in 2 a wkly comp to win FA Cup fina...\n",
      "5          1  FreeMsg Hey there darling it's been 3 week's n...\n",
      "7          0  As per your request 'Melle Melle (Oru Minnamin...\n",
      "9          1  Had your mobile 11 months or more? U R entitle...\n",
      "10         0  I'm gonna be home soon and i don't want to tal...\n"
     ]
    }
   ],
   "source": [
    "import re  \n",
    "\n",
    "# Checking special characters in df \n",
    "special_characters = df[df[\"Message\"].str.contains(r\"[@#$%^&*()<>?/|}{~:]\", regex=True)]\n",
    "print(special_characters.head(5))\n"
   ]
  },
  {
   "cell_type": "markdown",
   "metadata": {},
   "source": [
    "checking html_tags "
   ]
  },
  {
   "cell_type": "code",
   "execution_count": 8,
   "metadata": {},
   "outputs": [
    {
     "name": "stdout",
     "output_type": "stream",
     "text": [
      "      Category                                            Message\n",
      "690          1  <Forwarded from 448712404000>Please CALL 08712...\n",
      "2267         1  <Forwarded from 88877>FREE entry into our £250...\n",
      "2297         1  <Forwarded from 21870000>Hi - this is your Mai...\n",
      "2620         1  <Forwarded from 21870000>Hi - this is your Mai...\n",
      "4112         1  URGENT! Your Mobile number has been awarded a ...\n"
     ]
    }
   ],
   "source": [
    "html_tags = df[df[\"Message\"].str.contains(r\"<.*?>\", regex = True)] \n",
    "print(html_tags.head(5))"
   ]
  },
  {
   "cell_type": "markdown",
   "metadata": {},
   "source": [
    "Detecting Non-English chars "
   ]
  },
  {
   "cell_type": "code",
   "execution_count": 9,
   "metadata": {},
   "outputs": [
    {
     "name": "stdout",
     "output_type": "stream",
     "text": [
      "Language\n",
      "en       4713\n",
      "af         58\n",
      "so         38\n",
      "nl         38\n",
      "cy         34\n",
      "fr         31\n",
      "no         27\n",
      "it         26\n",
      "id         23\n",
      "da         19\n",
      "de         18\n",
      "tl         18\n",
      "sw         14\n",
      "ca         14\n",
      "et         12\n",
      "sv          9\n",
      "hr          9\n",
      "es          8\n",
      "sq          6\n",
      "sl          6\n",
      "sk          6\n",
      "vi          6\n",
      "pl          5\n",
      "tr          4\n",
      "pt          4\n",
      "error       3\n",
      "ro          3\n",
      "cs          2\n",
      "lt          2\n",
      "fi          1\n",
      "Name: count, dtype: int64\n"
     ]
    }
   ],
   "source": [
    "from langdetect import detect\n",
    "  \n",
    "# Function to detect language\n",
    "def detect_language(text):\n",
    "    try:\n",
    "        return detect(text)\n",
    "    except:\n",
    "        return \"error\" \n",
    "    \n",
    "df[\"Language\"] = df[\"Message\"].apply(detect_language) \n",
    "\n",
    "print(df[\"Language\"].value_counts())"
   ]
  },
  {
   "cell_type": "markdown",
   "metadata": {},
   "source": [
    "Detect Irreveleant characters"
   ]
  },
  {
   "cell_type": "code",
   "execution_count": 10,
   "metadata": {},
   "outputs": [
    {
     "name": "stdout",
     "output_type": "stream",
     "text": [
      "      Category                                            Message Language\n",
      "1945         0  Yeah, I'll leave in a couple minutes &amp; let...       en\n",
      "4676         1  Hi babe its Chloe, how r u? I was smashed on s...       en\n",
      "3824         0  Please protect yourself from e-threats. SIB ne...       en\n",
      "1338         0       Then she buying today? Ü no need to c meh...       en\n",
      "2152         0  I surely dont forgot to come:)i will always be...       en\n"
     ]
    }
   ],
   "source": [
    "# Find rows with too many numbers or symbols\n",
    "weird_chars = df[df[\"Message\"].str.contains(r\"[^a-zA-Z0-9\\s]\", regex=True)]\n",
    "print(weird_chars.sample(5))\n"
   ]
  },
  {
   "cell_type": "markdown",
   "metadata": {},
   "source": [
    "## Combine Multiple Datasets for Diversity"
   ]
  },
  {
   "cell_type": "code",
   "execution_count": 11,
   "metadata": {},
   "outputs": [
    {
     "name": "stdout",
     "output_type": "stream",
     "text": [
      "File 1 Columns: Index([0, 1], dtype='int64')\n",
      "File 2 Columns: Index([0, 1, 2, 3, 4], dtype='int64')\n"
     ]
    }
   ],
   "source": [
    "# Load CSV files without assuming headers\n",
    "df1 = pd.read_csv(\"mail_data.csv\", header=None)\n",
    "df2 = pd.read_csv(\"spam after new update.csv\", header=None)\n",
    "\n",
    "# Print column names to debug\n",
    "print(\"File 1 Columns:\", df1.columns)\n",
    "print(\"File 2 Columns:\", df2.columns)"
   ]
  },
  {
   "cell_type": "code",
   "execution_count": 12,
   "metadata": {},
   "outputs": [],
   "source": [
    "# Getting data from CSV files \n",
    "#df1 = pd.read_csv(\"mail_data.csv\", encoding=\"ISO-8859-1\")\n",
    "#df2 = pd.read_csv(\"spam after new update.csv\", encoding=\"ISO-8859-1\") \n",
    "\n",
    "df1 = pd.read_csv(\"mail_data.csv\", header=None, usecols=[0, 1], names=['Category', 'Message'] , encoding=\"ISO-8859-1\")\n",
    "df2 = pd.read_csv(\"spam after new update.csv\", header=None, usecols=[0, 1], names=['Category', 'Message'] , encoding=\"ISO-8859-1\")\n",
    "\n",
    "# Remove rows where Category or Message is missing\n",
    "df1.dropna(subset=['Category', 'Message'], inplace=True)\n",
    "df2.dropna(subset=['Category', 'Message'], inplace=True)\n",
    "\n",
    "\n",
    "df = pd.concat([df1, df2], ignore_index= True) \n",
    "\n",
    "df.to_csv(\"data.csv\" , index = False)"
   ]
  },
  {
   "cell_type": "markdown",
   "metadata": {},
   "source": [
    "Remaking the above steps of EDA for the combined dataset "
   ]
  },
  {
   "cell_type": "code",
   "execution_count": 13,
   "metadata": {},
   "outputs": [
    {
     "name": "stdout",
     "output_type": "stream",
     "text": [
      "Category    0\n",
      "Message     0\n",
      "dtype: int64\n"
     ]
    }
   ],
   "source": [
    "print(df.isnull().sum())  #Check missing values \n",
    "\n",
    "# handling missing values\n",
    "df.dropna(inplace= True)  \n",
    "\n",
    "# handling duplicates \n",
    "df.drop_duplicates(inplace= True)"
   ]
  },
  {
   "cell_type": "code",
   "execution_count": 14,
   "metadata": {},
   "outputs": [
    {
     "name": "stderr",
     "output_type": "stream",
     "text": [
      "C:\\Users\\Shreyas\\AppData\\Local\\Temp\\ipykernel_17160\\2888701375.py:2: FutureWarning: \n",
      "\n",
      "Passing `palette` without assigning `hue` is deprecated and will be removed in v0.14.0. Assign the `x` variable to `hue` and set `legend=False` for the same effect.\n",
      "\n",
      "  sns.countplot(x = df[\"Category\"], palette= 'coolwarm')\n"
     ]
    },
    {
     "data": {
      "image/png": "[encoded data removed]",
      "text/plain": [
       "<Figure size 600x400 with 1 Axes>"
      ]
     },
     "metadata": {},
     "output_type": "display_data"
    }
   ],
   "source": [
    "plt.figure(figsize=(6,4)) #Learning data occurence\n",
    "sns.countplot(x = df[\"Category\"], palette= 'coolwarm') \n",
    "plt.title(\"Class Distribution: Ham vs Spam\")  \n",
    "plt.xlabel(\"Category\")  \n",
    "plt.ylabel(\"Count\")  \n",
    "plt.show()"
   ]
  },
  {
   "cell_type": "markdown",
   "metadata": {},
   "source": [
    "The data is imbalanced , hence applying SMOTE "
   ]
  },
  {
   "cell_type": "code",
   "execution_count": 15,
   "metadata": {},
   "outputs": [
    {
     "name": "stdout",
     "output_type": "stream",
     "text": [
      "Missing values in y: 0\n"
     ]
    },
    {
     "name": "stderr",
     "output_type": "stream",
     "text": [
      "C:\\Users\\Shreyas\\AppData\\Local\\Temp\\ipykernel_17160\\1018649435.py:37: FutureWarning: \n",
      "\n",
      "Passing `palette` without assigning `hue` is deprecated and will be removed in v0.14.0. Assign the `x` variable to `hue` and set `legend=False` for the same effect.\n",
      "\n",
      "  sns.countplot(x=df_resampled[\"Category\"], palette='coolwarm')\n"
     ]
    },
    {
     "data": {
      "image/png": "[encoded data removed]",
      "text/plain": [
       "<Figure size 600x400 with 1 Axes>"
      ]
     },
     "metadata": {},
     "output_type": "display_data"
    }
   ],
   "source": [
    "import pandas as pd\n",
    "import matplotlib.pyplot as plt\n",
    "import seaborn as sns\n",
    "from imblearn.over_sampling import SMOTE\n",
    "from sklearn.feature_extraction.text import TfidfVectorizer\n",
    "\n",
    "# Load dataset\n",
    "df = pd.read_csv(\"data.csv\")\n",
    "\n",
    "# ✅ Drop rows where Category or Message is NaN\n",
    "df.dropna(subset=['Category', 'Message'], inplace=True)\n",
    "\n",
    "# Convert \"Category\" column to binary (0 = ham, 1 = spam)\n",
    "df['Category'] = df['Category'].map({'ham': 0, 'spam': 1})\n",
    "\n",
    "# ✅ Drop rows where Category is NaN after mapping\n",
    "df.dropna(subset=['Category'], inplace=True)\n",
    "\n",
    "# Convert text messages into numerical form using TF-IDF\n",
    "vectorizer = TfidfVectorizer()\n",
    "X = vectorizer.fit_transform(df['Message'])  \n",
    "y = df['Category']  # Target labels\n",
    "\n",
    "# ✅ Ensure y has no NaN values before SMOTE\n",
    "print(\"Missing values in y:\", y.isna().sum())  # Should print 0\n",
    "\n",
    "# Apply SMOTE to balance the dataset\n",
    "smote = SMOTE(random_state=42)\n",
    "X_resampled, y_resampled = smote.fit_resample(X, y)\n",
    "\n",
    "# Convert back to DataFrame for visualization\n",
    "df_resampled = pd.DataFrame({'Category': y_resampled})  \n",
    "df_resampled['Category'] = df_resampled['Category'].map({0: 'ham', 1: 'spam'})  # Convert back to labels\n",
    "\n",
    "# ✅ Replot Class Distribution After Balancing\n",
    "plt.figure(figsize=(6, 4))\n",
    "sns.countplot(x=df_resampled[\"Category\"], palette='coolwarm')\n",
    "plt.title(\"Class Distribution: Ham vs Spam (After Balancing)\")\n",
    "plt.xlabel(\"Category\")\n",
    "plt.ylabel(\"Count\")\n",
    "plt.show()\n"
   ]
  }
 ],
 "metadata": {
  "kernelspec": {
   "display_name": "Python 3",
   "language": "python",
   "name": "python3"
  },
  "language_info": {
   "codemirror_mode": {
    "name": "ipython",
    "version": 3
   },
   "file_extension": ".py",
   "mimetype": "text/x-python",
   "name": "python",
   "nbconvert_exporter": "python",
   "pygments_lexer": "ipython3",
   "version": "3.13.0"
  }
 },
 "nbformat": 4,
 "nbformat_minor": 2
}
