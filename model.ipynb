{
 "cells": [
  {
   "cell_type": "markdown",
   "metadata": {},
   "source": [
    "# Spam Email Classification"
   ]
  },
  {
   "cell_type": "code",
   "execution_count": null,
   "metadata": {},
   "outputs": [],
   "source": [
    "import pandas as pd \n",
    "import matplotlib.pyplot as plt \n",
    "import seaborn as sns"
   ]
  },
  {
   "cell_type": "code",
   "execution_count": 1,
   "metadata": {},
   "outputs": [
    {
     "ename": "NameError",
     "evalue": "name 'pd' is not defined",
     "output_type": "error",
     "traceback": [
      "\u001b[1;31m---------------------------------------------------------------------------\u001b[0m",
      "\u001b[1;31mNameError\u001b[0m                                 Traceback (most recent call last)",
      "Cell \u001b[1;32mIn[1], line 1\u001b[0m\n\u001b[1;32m----> 1\u001b[0m df \u001b[38;5;241m=\u001b[39m \u001b[43mpd\u001b[49m\u001b[38;5;241m.\u001b[39mread_csv(\u001b[38;5;124m\"\u001b[39m\u001b[38;5;124mmail_data.csv\u001b[39m\u001b[38;5;124m\"\u001b[39m) \u001b[38;5;66;03m# creating dataframe \u001b[39;00m\n\u001b[0;32m      4\u001b[0m \u001b[38;5;28mprint\u001b[39m(df\u001b[38;5;241m.\u001b[39mhead())\n\u001b[0;32m      5\u001b[0m \u001b[38;5;28mprint\u001b[39m(df\u001b[38;5;241m.\u001b[39mcolumns)\n",
      "\u001b[1;31mNameError\u001b[0m: name 'pd' is not defined"
     ]
    }
   ],
   "source": [
    "df = pd.read_csv(\"mail_data.csv\") # creating dataframe \n",
    "\n",
    "\n",
    "print(df.head())\n",
    "print(df.columns)"
   ]
  },
  {
   "cell_type": "code",
   "execution_count": null,
   "metadata": {},
   "outputs": [],
   "source": [
    "print(df.isnull().sum())  #Check missing values \n",
    "\n",
    "# handling missing values\n",
    "df.dropna(inplace= True)  \n",
    "\n",
    "# handling duplicates \n",
    "df.drop_duplicates(inplace= True)"
   ]
  },
  {
   "cell_type": "code",
   "execution_count": null,
   "metadata": {},
   "outputs": [],
   "source": [
    "plt.figure(figsize=(6,4)) #Learning data occurence\n",
    "sns.countplot(x = df[\"Category\"], palette= 'coolwarm') \n",
    "plt.title(\"Class Distribution: Ham vs Spam\")  \n",
    "plt.xlabel(\"Category\")  \n",
    "plt.ylabel(\"Count\")  \n",
    "plt.show()"
   ]
  },
  {
   "cell_type": "markdown",
   "metadata": {},
   "source": [
    "Classifying ham as 0 and spam as 1 for the classification model "
   ]
  },
  {
   "cell_type": "code",
   "execution_count": null,
   "metadata": {},
   "outputs": [],
   "source": [
    "df[\"Category\"] = df[\"Category\"].map({'ham' : 0, 'spam' :1})"
   ]
  },
  {
   "cell_type": "markdown",
   "metadata": {},
   "source": [
    "Getting sample datas "
   ]
  },
  {
   "cell_type": "code",
   "execution_count": null,
   "metadata": {},
   "outputs": [],
   "source": [
    "print(df[\"Message\"].sample(5, random_state=42))  # Print 5 random messages"
   ]
  },
  {
   "cell_type": "markdown",
   "metadata": {},
   "source": [
    "Checking special chars"
   ]
  },
  {
   "cell_type": "code",
   "execution_count": null,
   "metadata": {},
   "outputs": [],
   "source": [
    "import re  \n",
    "\n",
    "# Checking special characters in df \n",
    "special_characters = df[df[\"Message\"].str.contains(r\"[@#$%^&*()<>?/|}{~:]\", regex=True)]\n",
    "print(special_characters.head(5))\n"
   ]
  },
  {
   "cell_type": "markdown",
   "metadata": {},
   "source": [
    "checking html_tags "
   ]
  },
  {
   "cell_type": "code",
   "execution_count": null,
   "metadata": {},
   "outputs": [],
   "source": [
    "html_tags = df[df[\"Message\"].str.contains(r\"<.*?>\", regex = True)] \n",
    "print(html_tags.head(5))"
   ]
  },
  {
   "cell_type": "markdown",
   "metadata": {},
   "source": [
    "Detecting Non-English chars "
   ]
  },
  {
   "cell_type": "code",
   "execution_count": null,
   "metadata": {},
   "outputs": [],
   "source": [
    "from langdetect import detect\n",
    "  \n",
    "# Function to detect language\n",
    "def detect_language(text):\n",
    "    try:\n",
    "        return detect(text)\n",
    "    except:\n",
    "        return \"error\" \n",
    "    \n",
    "df[\"Language\"] = df[\"Message\"].apply(detect_language) \n",
    "\n",
    "print(df[\"Language\"].value_counts())"
   ]
  },
  {
   "cell_type": "markdown",
   "metadata": {},
   "source": [
    "Detect Irreveleant characters"
   ]
  },
  {
   "cell_type": "code",
   "execution_count": null,
   "metadata": {},
   "outputs": [],
   "source": [
    "# Find rows with too many numbers or symbols\n",
    "weird_chars = df[df[\"Message\"].str.contains(r\"[^a-zA-Z0-9\\s]\", regex=True)]\n",
    "print(weird_chars.sample(5))\n"
   ]
  },
  {
   "cell_type": "markdown",
   "metadata": {},
   "source": [
    "## Combine Multiple Datasets for Diversity"
   ]
  },
  {
   "cell_type": "code",
   "execution_count": null,
   "metadata": {},
   "outputs": [],
   "source": [
    "# Load CSV files without assuming headers\n",
    "df1 = pd.read_csv(\"mail_data.csv\", header=None)\n",
    "df2 = pd.read_csv(\"spam after new update.csv\", header=None)\n",
    "\n",
    "# Print column names to debug\n",
    "print(\"File 1 Columns:\", df1.columns)\n",
    "print(\"File 2 Columns:\", df2.columns)"
   ]
  },
  {
   "cell_type": "code",
   "execution_count": null,
   "metadata": {},
   "outputs": [],
   "source": [
    "# Getting data from CSV files \n",
    "#df1 = pd.read_csv(\"mail_data.csv\", encoding=\"ISO-8859-1\")\n",
    "#df2 = pd.read_csv(\"spam after new update.csv\", encoding=\"ISO-8859-1\") \n",
    "\n",
    "df1 = pd.read_csv(\"mail_data.csv\", header=None, usecols=[0, 1], names=['Category', 'Message'] , encoding=\"ISO-8859-1\")\n",
    "df2 = pd.read_csv(\"spam after new update.csv\", header=None, usecols=[0, 1], names=['Category', 'Message'] , encoding=\"ISO-8859-1\")\n",
    "\n",
    "# Remove rows where Category or Message is missing\n",
    "df1.dropna(subset=['Category', 'Message'], inplace=True)\n",
    "df2.dropna(subset=['Category', 'Message'], inplace=True)\n",
    "\n",
    "\n",
    "df = pd.concat([df1, df2], ignore_index= True) \n",
    "\n",
    "df.to_csv(\"data.csv\" , index = False)"
   ]
  },
  {
   "cell_type": "markdown",
   "metadata": {},
   "source": [
    "Remaking the above steps of EDA for the combined dataset "
   ]
  },
  {
   "cell_type": "code",
   "execution_count": null,
   "metadata": {},
   "outputs": [],
   "source": [
    "print(df.isnull().sum())  #Check missing values \n",
    "\n",
    "# handling missing values\n",
    "df.dropna(inplace= True)  \n",
    "\n",
    "# handling duplicates \n",
    "df.drop_duplicates(inplace= True)"
   ]
  },
  {
   "cell_type": "code",
   "execution_count": null,
   "metadata": {},
   "outputs": [],
   "source": [
    "plt.figure(figsize=(6,4)) #Learning data occurence\n",
    "sns.countplot(x = df[\"Category\"], palette= 'coolwarm') \n",
    "plt.title(\"Class Distribution: Ham vs Spam\")  \n",
    "plt.xlabel(\"Category\")  \n",
    "plt.ylabel(\"Count\")  \n",
    "plt.show()"
   ]
  },
  {
   "cell_type": "markdown",
   "metadata": {},
   "source": [
    "The data is imbalanced , hence applying SMOTE "
   ]
  },
  {
   "cell_type": "code",
   "execution_count": null,
   "metadata": {},
   "outputs": [],
   "source": [
    "import pandas as pd\n",
    "import matplotlib.pyplot as plt\n",
    "import seaborn as sns\n",
    "from imblearn.over_sampling import SMOTE\n",
    "from sklearn.feature_extraction.text import TfidfVectorizer\n",
    "\n",
    "# Load dataset\n",
    "df = pd.read_csv(\"data.csv\")\n",
    "\n",
    "# ✅ Drop rows where Category or Message is NaN\n",
    "df.dropna(subset=['Category', 'Message'], inplace=True)\n",
    "\n",
    "# Convert \"Category\" column to binary (0 = ham, 1 = spam)\n",
    "df['Category'] = df['Category'].map({'ham': 0, 'spam': 1})\n",
    "\n",
    "# ✅ Drop rows where Category is NaN after mapping\n",
    "df.dropna(subset=['Category'], inplace=True)\n",
    "\n",
    "# Convert text messages into numerical form using TF-IDF\n",
    "vectorizer = TfidfVectorizer()\n",
    "X = vectorizer.fit_transform(df['Message'])  \n",
    "y = df['Category']  # Target labels\n",
    "\n",
    "# ✅ Ensure y has no NaN values before SMOTE\n",
    "print(\"Missing values in y:\", y.isna().sum())  # Should print 0\n",
    "\n",
    "# Apply SMOTE to balance the dataset\n",
    "smote = SMOTE(random_state=42)\n",
    "X_resampled, y_resampled = smote.fit_resample(X, y)\n",
    "\n",
    "# Convert back to DataFrame for visualization\n",
    "df_resampled = pd.DataFrame({'Category': y_resampled})  \n",
    "df_resampled['Category'] = df_resampled['Category'].map({0: 'ham', 1: 'spam'})  # Convert back to labels\n",
    "\n",
    "# ✅ Replot Class Distribution After Balancing\n",
    "plt.figure(figsize=(6, 4))\n",
    "sns.countplot(x=df_resampled[\"Category\"], palette='coolwarm')\n",
    "plt.title(\"Class Distribution: Ham vs Spam (After Balancing)\")\n",
    "plt.xlabel(\"Category\")\n",
    "plt.ylabel(\"Count\")\n",
    "plt.show()\n"
   ]
  }
 ],
 "metadata": {
  "kernelspec": {
   "display_name": "Python 3",
   "language": "python",
   "name": "python3"
  },
  "language_info": {
   "codemirror_mode": {
    "name": "ipython",
    "version": 3
   },
   "file_extension": ".py",
   "mimetype": "text/x-python",
   "name": "python",
   "nbconvert_exporter": "python",
   "pygments_lexer": "ipython3",
   "version": "3.13.0"
  }
 },
 "nbformat": 4,
 "nbformat_minor": 2
}
